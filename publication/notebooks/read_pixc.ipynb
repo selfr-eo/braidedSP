{
 "cells": [
  {
   "cell_type": "code",
   "execution_count": 1,
   "id": "31cee64a",
   "metadata": {},
   "outputs": [],
   "source": [
    "import sys\n",
    "sys.path.append(\"../tools\")\n",
    "import procBraided as pc\n",
    "\n",
    "import geopandas as gpd\n",
    "import xarray as xr\n",
    "import numpy as np\n",
    "import pandas as pd\n",
    "import rasterio\n",
    "import rioxarray\n"
   ]
  },
  {
   "cell_type": "code",
   "execution_count": 2,
   "id": "48ef32fa",
   "metadata": {},
   "outputs": [
    {
     "name": "stdout",
     "output_type": "stream",
     "text": [
      "No centerline buffer to trim to.\n",
      "      height  heightEGM      geoid        lat        lon  class  water_frac  \\\n",
      "0 -42.729889  12.279091 -55.008980  24.574882  89.330418    4.0    1.680274   \n",
      "1 -43.466019  11.184052 -54.650070  24.605708  89.523375    4.0    1.579138   \n",
      "2 -43.520897  11.128593 -54.649490  24.605752  89.523652    4.0    1.195304   \n",
      "3 -43.749531  10.850052 -54.599583  24.609603  89.547870    4.0    1.532086   \n",
      "4 -43.756649  10.842407 -54.599056  24.609644  89.548130    4.0    0.717903   \n",
      "\n",
      "   phase_noise_std  dheight_dphase        sig0                   geometry  \n",
      "0         0.099886        0.090545         NaN  POINT (89.33042 24.57488)  \n",
      "1         0.061679       -2.901547  130.299866  POINT (89.52338 24.60571)  \n",
      "2         0.054925       -2.905830  121.040970  POINT (89.52365 24.60575)  \n",
      "3         0.057690       -3.281473  107.470596   POINT (89.54787 24.6096)  \n",
      "4         0.057690       -3.285520   51.441544  POINT (89.54813 24.60964)  \n"
     ]
    }
   ],
   "source": [
    "filename = r\"C:\\Users\\safr\\Documents\\swotBraided\\SWOTC\\SWOT_L2_HR_PIXC_010_258_112L_20240203T045957_20240203T050008_PIC0_01.nc\"\n",
    "\n",
    "gdf = pc.readPIXC(filename, gdf_buffered=[])\n",
    "print(gdf.head())"
   ]
  },
  {
   "cell_type": "code",
   "execution_count": 7,
   "id": "3a417160",
   "metadata": {},
   "outputs": [
    {
     "name": "stdout",
     "output_type": "stream",
     "text": [
      "798815\n"
     ]
    }
   ],
   "source": [
    "print(len(gdf))\n",
    "# subsample to smaller size for plotting\n",
    "gdf_sampled = gdf.sample(n=20000, random_state=42)"
   ]
  },
  {
   "cell_type": "code",
   "execution_count": 8,
   "id": "222c142b",
   "metadata": {},
   "outputs": [],
   "source": [
    "# save to csv\n",
    "gdf_sampled.to_csv(r'C:\\Users\\safr\\Documents\\swotBraided\\SWOTC\\258_112L_20240203_sub_20t.csv', index=False)"
   ]
  },
  {
   "cell_type": "code",
   "execution_count": null,
   "id": "3a696c6f",
   "metadata": {},
   "outputs": [],
   "source": []
  }
 ],
 "metadata": {
  "kernelspec": {
   "display_name": "swotBraided",
   "language": "python",
   "name": "python3"
  },
  "language_info": {
   "codemirror_mode": {
    "name": "ipython",
    "version": 3
   },
   "file_extension": ".py",
   "mimetype": "text/x-python",
   "name": "python",
   "nbconvert_exporter": "python",
   "pygments_lexer": "ipython3",
   "version": "3.13.2"
  }
 },
 "nbformat": 4,
 "nbformat_minor": 5
}
